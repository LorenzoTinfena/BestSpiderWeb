{
  "nbformat": 4,
  "nbformat_minor": 0,
  "metadata": {
    "colab": {
      "name": "BestSpiderWeb.ipynb",
      "provenance": [],
      "toc_visible": true,
      "include_colab_link": true
    },
    "kernelspec": {
      "name": "python3",
      "display_name": "Python 3"
    },
    "widgets": {
      "application/vnd.jupyter.widget-state+json": {
        "5cb53acb81c44ac79bcb2f02658350be": {
          "model_module": "@jupyter-widgets/controls",
          "model_name": "ButtonModel",
          "state": {
            "_view_name": "ButtonView",
            "style": "IPY_MODEL_9f6d386aed2641c2b1a667c29e57f8f9",
            "_dom_classes": [],
            "description": "Stop",
            "_model_name": "ButtonModel",
            "button_style": "",
            "_view_module": "@jupyter-widgets/controls",
            "_model_module_version": "1.5.0",
            "tooltip": "",
            "_view_count": null,
            "disabled": false,
            "_view_module_version": "1.5.0",
            "layout": "IPY_MODEL_fdd0f9f7819f4be19d0aec85372f5f91",
            "_model_module": "@jupyter-widgets/controls",
            "icon": ""
          }
        },
        "9f6d386aed2641c2b1a667c29e57f8f9": {
          "model_module": "@jupyter-widgets/controls",
          "model_name": "ButtonStyleModel",
          "state": {
            "_view_name": "StyleView",
            "_model_name": "ButtonStyleModel",
            "_view_module": "@jupyter-widgets/base",
            "_model_module_version": "1.5.0",
            "_view_count": null,
            "button_color": null,
            "font_weight": "",
            "_view_module_version": "1.2.0",
            "_model_module": "@jupyter-widgets/controls"
          }
        },
        "fdd0f9f7819f4be19d0aec85372f5f91": {
          "model_module": "@jupyter-widgets/base",
          "model_name": "LayoutModel",
          "state": {
            "_view_name": "LayoutView",
            "grid_template_rows": null,
            "right": null,
            "justify_content": null,
            "_view_module": "@jupyter-widgets/base",
            "overflow": null,
            "_model_module_version": "1.2.0",
            "_view_count": null,
            "flex_flow": null,
            "width": null,
            "min_width": null,
            "border": null,
            "align_items": null,
            "bottom": null,
            "_model_module": "@jupyter-widgets/base",
            "top": null,
            "grid_column": null,
            "overflow_y": null,
            "overflow_x": null,
            "grid_auto_flow": null,
            "grid_area": null,
            "grid_template_columns": null,
            "flex": null,
            "_model_name": "LayoutModel",
            "justify_items": null,
            "grid_row": null,
            "max_height": null,
            "align_content": null,
            "visibility": null,
            "align_self": null,
            "height": null,
            "min_height": null,
            "padding": null,
            "grid_auto_rows": null,
            "grid_gap": null,
            "max_width": null,
            "order": null,
            "_view_module_version": "1.2.0",
            "grid_template_areas": null,
            "object_position": null,
            "object_fit": null,
            "grid_auto_columns": null,
            "margin": null,
            "display": null,
            "left": null
          }
        },
        "11bcf3138fcb4b3f988f95edac8b25c9": {
          "model_module": "@jupyter-widgets/output",
          "model_name": "OutputModel",
          "state": {
            "_view_name": "OutputView",
            "msg_id": "",
            "_dom_classes": [],
            "_model_name": "OutputModel",
            "outputs": [],
            "_view_module": "@jupyter-widgets/output",
            "_model_module_version": "1.0.0",
            "_view_count": null,
            "_view_module_version": "1.0.0",
            "layout": "IPY_MODEL_47d4ee67f3684639aaf29c180057be37",
            "_model_module": "@jupyter-widgets/output"
          }
        },
        "47d4ee67f3684639aaf29c180057be37": {
          "model_module": "@jupyter-widgets/base",
          "model_name": "LayoutModel",
          "state": {
            "_view_name": "LayoutView",
            "grid_template_rows": null,
            "right": null,
            "justify_content": null,
            "_view_module": "@jupyter-widgets/base",
            "overflow": null,
            "_model_module_version": "1.2.0",
            "_view_count": null,
            "flex_flow": null,
            "width": null,
            "min_width": null,
            "border": null,
            "align_items": null,
            "bottom": null,
            "_model_module": "@jupyter-widgets/base",
            "top": null,
            "grid_column": null,
            "overflow_y": null,
            "overflow_x": null,
            "grid_auto_flow": null,
            "grid_area": null,
            "grid_template_columns": null,
            "flex": null,
            "_model_name": "LayoutModel",
            "justify_items": null,
            "grid_row": null,
            "max_height": null,
            "align_content": null,
            "visibility": null,
            "align_self": null,
            "height": null,
            "min_height": null,
            "padding": null,
            "grid_auto_rows": null,
            "grid_gap": null,
            "max_width": null,
            "order": null,
            "_view_module_version": "1.2.0",
            "grid_template_areas": null,
            "object_position": null,
            "object_fit": null,
            "grid_auto_columns": null,
            "margin": null,
            "display": null,
            "left": null
          }
        }
      }
    }
  },
  "cells": [
    {
      "cell_type": "markdown",
      "metadata": {
        "id": "view-in-github",
        "colab_type": "text"
      },
      "source": [
        "<a href=\"https://colab.research.google.com/github/LorenzoTinfena/BestSpiderWeb/blob/master/BestSpiderWeb.ipynb\" target=\"_parent\"><img src=\"https://colab.research.google.com/assets/colab-badge.svg\" alt=\"Open In Colab\"/></a>"
      ]
    },
    {
      "cell_type": "markdown",
      "metadata": {
        "id": "hF_buAzxxPjP",
        "colab_type": "text"
      },
      "source": [
        "# BestSpiderWeb\n",
        "## Problem\n",
        "A city without roads has a grain producer, an egg producer and a hotel.\n",
        "The mayor also wants to build a pasta producer and a restaurant in the future. He also wants to build roads like in the picture, so that the producer can easily take the wheat and eggs to make pasta, and the restaurant can easily buy pasta, welcome hotel people, and buy eggs for other preparations.\n",
        "\n",
        "<img src=\"https://github.com/LorenzoTinfena/BestSpiderWeb/blob/master/assets/city0.png?raw=1\" width=\"300\"/>\n",
        "\n",
        "**Goal:** to build roads costs, you have to make them as short as possible.\n",
        "\n",
        "<img src=\"https://github.com/LorenzoTinfena/BestSpiderWeb/blob/master/assets/city1.png?raw=1\" width=\"400\"/>\n",
        "\n",
        "\n",
        "---\n",
        "\n",
        "\n",
        "**In other words:** In an Euclidean space there is a graph with constant edges and with 2 types of nodes, one with constant coordinates, the other with a variable coordinates.\n",
        "\n",
        "**Goal:** To find the positions of the variable nodes in order to have the smaller sum of the length of the edges\n",
        "\n",
        "\n",
        "---\n",
        "\n",
        "\n",
        "## Solution\n",
        "$$\n",
        "N_0[c] = \\sum_{i \\in N}\\sum_{v \\in P_{N_0  \\longleftrightarrow i}}\\frac{\\sum O_i[c]}{v}\n",
        "$$\n",
        "where\n",
        "*   $$N_0$$\n",
        "\n",
        "*   $$c$$\n",
        "coordinates\n",
        "*   $$N$$\n",
        "set of nodes with variable coordinates reachable from N with 0 passing only through nodes belonging to N\n",
        "*   $$O$$\n",
        "set of nodes with constant coordinates\n",
        "*   $$O_i$$\n",
        "set of nodes belonging to \"O\" adjacent to \"i\"\n",
        "*   $$P_{N_0  \\rightarrow i}$$\n",
        "set of all possible paths (infinite for lenght of \"N\" greater than 1\") between node \"N with 0\" to node \"i\",\n",
        "passing only through nodes belonging to N\n",
        "*   $$v$$\n",
        "Or path, is a multiplication of the number of edges for all the nodes it crosses, \"N with 0\" included, \"i\" included,\n",
        "(e.g. if it starts from a node that has 7 adjacent edges, then goes through one that has 2,\n",
        "and ends up with one having 3, the calculation will be 7 * 2 * 3 = 42"
      ]
    },
    {
      "cell_type": "code",
      "metadata": {
        "id": "21TDvVciKqsT",
        "colab_type": "code",
        "colab": {}
      },
      "source": [
        "import threading as th\n",
        "import numpy as np\n",
        "import ipywidgets as widgets\n",
        "from IPython.display import display\n",
        "\n",
        "\n",
        "class Node:\n",
        "    NoCoordinates = 2  # @param {type:\"integer\"}\n",
        "\n",
        "    def __init__(self):\n",
        "        self.AdjacentNodes = []\n",
        "        self.Constant = False\n",
        "\n",
        "    def __init__(self, coordinates: np.ndarray):\n",
        "        if len(coordinates) != Node.NoCoordinates:\n",
        "            raise Exception('wrong number of coordinates')\n",
        "        self.AdjacentNodes = []\n",
        "        self.Coordinates = coordinates\n",
        "        self.Constant = True\n",
        "\n",
        "    def AddAdjacentNode(self, item: 'Node'):\n",
        "        self.AdjacentNodes += item\n",
        "\n",
        "\n",
        "    class VirtualNode:\n",
        "        def __init__(self, nodeBase: 'Node'):\n",
        "            self.ActualNode = nodeBase\n",
        "            self.SumConstantNodes = np.zeros(Node.NoCoordinates)\n",
        "            for item in nodeBase.AdjacentNodes:\n",
        "                if item.Constant:\n",
        "                    self.SumConstantNodes += item.Coordinates\n",
        "            self.NumTmpPath = len(nodeBase.AdjacentNodes)\n",
        "\n",
        "        def Copy(self, moltiplicator: int) -> 'VirtualNode':\n",
        "            item = Node.VirtualNode()\n",
        "            item.ActualNode = self.ActualNode\n",
        "            item.SumConstantNodes = self.SumConstantNodes\n",
        "            item.NumTmpPath = self.NumTmpPath * moltiplicator\n",
        "            return item\n",
        "\n",
        "\n",
        "\n",
        "\n",
        "\n",
        "def ComputeBestSpiderWeb(variablesNodes: list):\n",
        "    # initialize coordinates of variables nodes\n",
        "    for item in variablesNodes:\n",
        "        item.Coordinates = np.zeros(Node.NoCoordinates)\n",
        "\n",
        "    virtualNodes = []\n",
        "    for item in variablesNodes:\n",
        "        virtualNodes += Node.VirtualNode(item)\n",
        "\n",
        "    th.Thread(target=_WeaveTheSpiderWeb, args=(virtualNodes)).start()\n",
        "\n",
        "\n",
        "def _WeaveTheSpiderWeb(virtualNodes: list):\n",
        "    global THREADSTOPPED\n",
        "    while THREADSTOPPED:\n",
        "        nextVirtualNodes = []\n",
        "        for item in virtualNodes:\n",
        "            item.ActualNode.Coordinates += item.SumConstantNodes / item.NumTmpPath\n",
        "            for AdjacentItem in item.ActualNode.AdjacentNodes:\n",
        "                if THREADSTOPPED:\n",
        "                    return\n",
        "                nextVirtualNodes += item.Copy(moltiplicator=len(AdjacentItem.AdjacentNodes))\n",
        "        virtualNodes = nextVirtualNodes"
      ],
      "execution_count": 4,
      "outputs": []
    },
    {
      "cell_type": "code",
      "metadata": {
        "id": "6BXXVLwvzc53",
        "colab_type": "code",
        "colab": {
          "base_uri": "https://localhost:8080/",
          "height": 185,
          "referenced_widgets": [
            "5cb53acb81c44ac79bcb2f02658350be",
            "9f6d386aed2641c2b1a667c29e57f8f9",
            "fdd0f9f7819f4be19d0aec85372f5f91",
            "11bcf3138fcb4b3f988f95edac8b25c9",
            "47d4ee67f3684639aaf29c180057be37"
          ]
        },
        "outputId": "d45da181-095d-4509-da75-3e9c26acc0f5"
      },
      "source": [
        "def _OnButtonClicked(b):\n",
        "    global THREADSTOPPED\n",
        "    THREADSTOPPED = True\n",
        "\n",
        "variablesNodes = []\n",
        "constantNodes = []\n",
        "\n",
        "\n",
        "ComputeBestSpiderWeb(variablesNodes)\n",
        "BUTTON = widgets.Button(description=\"Stop\")\n",
        "OUTPUT = widgets.Output()\n",
        "BUTTON.on_click(_OnButtonClicked, remove=True)\n",
        "display(BUTTON, OUTPUT)\n",
        "THREADSTOPPED: bool = False"
      ],
      "execution_count": 5,
      "outputs": [
        {
          "output_type": "display_data",
          "data": {
            "application/vnd.jupyter.widget-view+json": {
              "model_id": "5cb53acb81c44ac79bcb2f02658350be",
              "version_minor": 0,
              "version_major": 2
            },
            "text/plain": [
              "Button(description='Stop', style=ButtonStyle())"
            ]
          },
          "metadata": {
            "tags": []
          }
        },
        {
          "output_type": "stream",
          "text": [
            "Exception in thread Thread-4:\n",
            "Traceback (most recent call last):\n",
            "  File \"/usr/lib/python3.6/threading.py\", line 916, in _bootstrap_inner\n",
            "    self.run()\n",
            "  File \"/usr/lib/python3.6/threading.py\", line 864, in run\n",
            "    self._target(*self._args, **self._kwargs)\n",
            "TypeError: _WeaveTheSpiderWeb() missing 1 required positional argument: 'virtualNodes'\n",
            "\n"
          ],
          "name": "stderr"
        },
        {
          "output_type": "display_data",
          "data": {
            "application/vnd.jupyter.widget-view+json": {
              "model_id": "11bcf3138fcb4b3f988f95edac8b25c9",
              "version_minor": 0,
              "version_major": 2
            },
            "text/plain": [
              "Output()"
            ]
          },
          "metadata": {
            "tags": []
          }
        }
      ]
    }
  ]
}