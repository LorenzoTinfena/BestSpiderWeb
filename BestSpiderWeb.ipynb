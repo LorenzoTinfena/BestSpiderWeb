{
  "nbformat": 4,
  "nbformat_minor": 0,
  "metadata": {
    "colab": {
      "name": "BestSpiderWeb.ipynb",
      "provenance": [],
      "include_colab_link": true
    },
    "kernelspec": {
      "name": "python3",
      "display_name": "Python 3"
    }
  },
  "cells": [
    {
      "cell_type": "markdown",
      "metadata": {
        "id": "view-in-github",
        "colab_type": "text"
      },
      "source": [
        "<a href=\"https://colab.research.google.com/github/LorenzoTinfena/BestSpiderWeb/blob/master/BestSpiderWeb.ipynb\" target=\"_parent\"><img src=\"https://colab.research.google.com/assets/colab-badge.svg\" alt=\"Open In Colab\"/></a>"
      ]
    },
    {
      "cell_type": "markdown",
      "metadata": {
        "id": "hF_buAzxxPjP",
        "colab_type": "text"
      },
      "source": [
        "# BestSpiderWeb\n",
        "## Problem\n",
        "A city without roads has a grain producer, an egg producer and a hotel.\n",
        "The mayor also wants to build a pasta producer and a restaurant in the future. He also wants to build roads like in the picture, so that the producer can easily take the wheat and eggs to make pasta, and the restaurant can easily buy pasta, welcome hotel people, and buy eggs for other preparations.\n",
        "\n",
        "<img src=\"https://github.com/LorenzoTinfena/BestSpiderWeb/blob/master/assets/city0.png?raw=1\" width=\"300\"/>\n",
        "\n",
        "**Goal:** to build roads costs, you have to make them as short as possible.\n",
        "\n",
        "<img src=\"https://github.com/LorenzoTinfena/BestSpiderWeb/blob/master/assets/city1.png?raw=1\" width=\"400\"/>\n",
        "\n",
        "\n",
        "---\n",
        "\n",
        "\n",
        "**In other words:** In an Euclidean space there is a graph with constant edges and with 2 types of nodes, one with constant coordinates, the other with a variable coordinates.\n",
        "\n",
        "**Goal:** To find the positions of the variable nodes in order to have the smaller sum of the length of the edges\n",
        "\n",
        "\n",
        "---\n",
        "\n",
        "\n",
        "## Solution\n",
        "$$\n",
        "N_0[c] = \\sum_{i \\in N}\\frac{\\sum O_i[c]}{\\sum_{v \\in P_{N_0  \\rightarrow i}}}\n",
        "$$\n",
        "where\n",
        "*   $$c$$\n",
        "coordinates\n",
        "*   $$N$$\n",
        "set of nodes with variable coordinates reachable from N with 0 passing only through nodes belonging to N\n",
        "*   $$O$$\n",
        "set of nodes with constant coordinates\n",
        "*   $$O_i$$\n",
        "set of nodes belonging to \"O\" adjacent to \"i\"\n",
        "*   $$P_{N_0  \\rightarrow i}$$\n",
        "set of all possible paths (infinite for lenght of \"N\" greater than 1\") between node \"N with 0\" to node \"i\",\n",
        "passing only through nodes belonging to N. A path is a multiplication of the number of edges for all the nodes it crosses, \"N with 0\" included, \"i\" included,\n",
        "(e.g. if it starts from a node that has 7 adjacent edges, then goes through one that has 2,\n",
        "and ends up with one having 3, the calculation will be 7 * 2 * 3 = 42"
      ]
    }
  ]
}